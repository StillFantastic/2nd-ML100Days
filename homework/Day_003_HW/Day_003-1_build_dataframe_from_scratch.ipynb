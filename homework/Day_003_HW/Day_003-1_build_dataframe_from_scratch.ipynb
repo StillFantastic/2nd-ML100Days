{
 "cells": [
  {
   "cell_type": "code",
   "execution_count": 1,
   "metadata": {},
   "outputs": [],
   "source": [
    "import pandas as pd"
   ]
  },
  {
   "cell_type": "code",
   "execution_count": 2,
   "metadata": {},
   "outputs": [],
   "source": [
    "data = {\"weekday\": [\"Sun\", \"Sun\", \"Mon\", \"Mon\"],\n",
    "        \"city\": [\"Taipei\", \"New Taipei\", \"Keelung\", \"Hualian\"],\n",
    "        \"visitor\": [123, 456, 321, 555]}"
   ]
  },
  {
   "cell_type": "code",
   "execution_count": 6,
   "metadata": {},
   "outputs": [
    {
     "name": "stdout",
     "output_type": "stream",
     "text": [
      "  weekday        city  visitor\n",
      "0     Sun      Taipei      123\n",
      "1     Sun  New Taipei      456\n",
      "2     Mon     Keelung      321\n",
      "3     Mon     Hualian      555\n"
     ]
    }
   ],
   "source": [
    "visitors_1 = pd.DataFrame(data)\n",
    "print(visitors_1)"
   ]
  },
  {
   "cell_type": "code",
   "execution_count": 8,
   "metadata": {},
   "outputs": [],
   "source": [
    "cities = [\"Taipei\", \"New Taipei\", \"Keelung\", \"Hualian\"]\n",
    "weekdays = [\"Sun\", \"Sun\", \"Mon\", \"Mon\"]\n",
    "visitors = [123, 456, 321, 555]"
   ]
  },
  {
   "cell_type": "code",
   "execution_count": 10,
   "metadata": {},
   "outputs": [],
   "source": [
    "list_cols = [cities, weekdays, visitors]\n",
    "list_labels = [\"city\", \"weekday\", \"visitor\"]"
   ]
  },
  {
   "cell_type": "code",
   "execution_count": 48,
   "metadata": {},
   "outputs": [],
   "source": [
    "zipped = list(zip(list_labels, list_cols))"
   ]
  },
  {
   "cell_type": "code",
   "execution_count": 49,
   "metadata": {},
   "outputs": [
    {
     "name": "stdout",
     "output_type": "stream",
     "text": [
      "         city weekday  visitor\n",
      "0      Taipei     Sun      123\n",
      "1  New Taipei     Sun      456\n",
      "2     Keelung     Mon      321\n",
      "3     Hualian     Mon      555\n"
     ]
    }
   ],
   "source": [
    "visitors_2 = pd.DataFrame(dict(zipped))\n",
    "print(visitors_2)"
   ]
  },
  {
   "cell_type": "code",
   "execution_count": 51,
   "metadata": {},
   "outputs": [
    {
     "data": {
      "text/plain": [
       "weekday\n",
       "Mon    438.0\n",
       "Sun    289.5\n",
       "Name: visitor, dtype: float64"
      ]
     },
     "execution_count": 51,
     "metadata": {},
     "output_type": "execute_result"
    }
   ],
   "source": [
    "visitors_1.groupby(by = \"weekday\")[\"visitor\"].mean()"
   ]
  }
 ],
 "metadata": {
  "kernelspec": {
   "display_name": "Python 3",
   "language": "python",
   "name": "python3"
  },
  "language_info": {
   "codemirror_mode": {
    "name": "ipython",
    "version": 3
   },
   "file_extension": ".py",
   "mimetype": "text/x-python",
   "name": "python",
   "nbconvert_exporter": "python",
   "pygments_lexer": "ipython3",
   "version": "3.7.3"
  }
 },
 "nbformat": 4,
 "nbformat_minor": 2
}
